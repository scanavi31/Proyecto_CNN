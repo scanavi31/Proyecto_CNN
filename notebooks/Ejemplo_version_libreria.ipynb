{
  "cells": [
    {
      "cell_type": "markdown",
      "metadata": {
        "colab_type": "text",
        "id": "view-in-github"
      },
      "source": [
        "<a href=\"https://colab.research.google.com/github/scanavi31/Proyecto_CNN/blob/Colaboracion_mentor/Ejemplo_version_libreria.ipynb\" target=\"_parent\"><img src=\"https://colab.research.google.com/assets/colab-badge.svg\" alt=\"Open In Colab\"/></a>"
      ]
    },
    {
      "cell_type": "code",
      "execution_count": 5,
      "metadata": {
        "colab": {
          "base_uri": "https://localhost:8080/"
        },
        "id": "O60P0YTZYfRU",
        "outputId": "396921a2-a70f-4d4e-fd61-ea4716931168"
      },
      "outputs": [
        {
          "name": "stdout",
          "output_type": "stream",
          "text": [
            "numpy version: 1.26.4\n",
            "panda version: 2.2.3\n",
            "matplotlib version: 3.9.2\n",
            "seaborn version: 0.13.2\n",
            "scikit-learn version: 1.5.2\n",
            "tensorflow version: 2.17.0\n",
            "keras version: 3.5.0\n",
            "opencv-python version: 4.10.0\n",
            "Pillow version: 10.4.0\n",
            "jupyterlab version: 4.2.5\n",
            "notebook version: 7.2.2\n",
            "ipykernel version: 6.29.5\n"
          ]
        }
      ],
      "source": [
        "# Importar las bibliotecas\n",
        "\n",
        "# Módulos de análisis de datos\n",
        "import pandas as pd\n",
        "import numpy as np\n",
        "\n",
        "# Bibliotecas de visualización\n",
        "import matplotlib as plt\n",
        "import seaborn as sns   \n",
        "%matplotlib inline\n",
        "\n",
        "# Bibliotecas de Machine Learning\n",
        "import tensorflow as tf\n",
        "import keras as kr\n",
        "import sklearn as sl\n",
        "\n",
        "import PIL as pl\n",
        "import cv2 as cv\n",
        "\n",
        "import jupyterlab as jl\n",
        "import notebook as nb\n",
        "import ipykernel as ik\n",
        "\n",
        "# Mostrar las versiones\n",
        "print(\"numpy version:\", np.__version__)\n",
        "print(\"panda version:\", pd.__version__)\n",
        "print(\"matplotlib version:\", plt.__version__)\n",
        "print(\"seaborn version:\", sns.__version__)\n",
        "print(\"scikit-learn version:\", sl.__version__)\n",
        "print(\"tensorflow version:\", tf.__version__)\n",
        "print(\"keras version:\", kr.__version__)\n",
        "print(\"opencv-python version:\", cv.__version__)\n",
        "print(\"Pillow version:\", pl.__version__)\n",
        "print(\"jupyterlab version:\", jl.__version__)\n",
        "print(\"notebook version:\", nb.__version__)\n",
        "print(\"ipykernel version:\", ik.__version__)\n"
      ]
    }
  ],
  "metadata": {
    "colab": {
      "authorship_tag": "ABX9TyPpgjv3BRYB9N+UTnZmUJqw",
      "include_colab_link": true,
      "provenance": []
    },
    "kernelspec": {
      "display_name": "Python 3",
      "name": "python3"
    },
    "language_info": {
      "codemirror_mode": {
        "name": "ipython",
        "version": 3
      },
      "file_extension": ".py",
      "mimetype": "text/x-python",
      "name": "python",
      "nbconvert_exporter": "python",
      "pygments_lexer": "ipython3",
      "version": "3.10.12"
    }
  },
  "nbformat": 4,
  "nbformat_minor": 0
}
