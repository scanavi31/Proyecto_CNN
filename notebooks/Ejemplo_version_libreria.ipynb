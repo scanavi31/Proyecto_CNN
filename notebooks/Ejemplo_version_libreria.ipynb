{
  "nbformat": 4,
  "nbformat_minor": 0,
  "metadata": {
    "colab": {
      "provenance": [],
      "authorship_tag": "ABX9TyPpgjv3BRYB9N+UTnZmUJqw",
      "include_colab_link": true
    },
    "kernelspec": {
      "name": "python3",
      "display_name": "Python 3"
    },
    "language_info": {
      "name": "python"
    }
  },
  "cells": [
    {
      "cell_type": "markdown",
      "metadata": {
        "id": "view-in-github",
        "colab_type": "text"
      },
      "source": [
        "<a href=\"https://colab.research.google.com/github/scanavi31/Proyecto_CNN/blob/Colaboracion_mentor/Ejemplo_version_libreria.ipynb\" target=\"_parent\"><img src=\"https://colab.research.google.com/assets/colab-badge.svg\" alt=\"Open In Colab\"/></a>"
      ]
    },
    {
      "cell_type": "code",
      "execution_count": 4,
      "metadata": {
        "colab": {
          "base_uri": "https://localhost:8080/"
        },
        "id": "O60P0YTZYfRU",
        "outputId": "396921a2-a70f-4d4e-fd61-ea4716931168"
      },
      "outputs": [
        {
          "output_type": "stream",
          "name": "stdout",
          "text": [
            "numpy version: 1.26.4\n"
          ]
        }
      ],
      "source": [
        "# Importar las bibliotecas\n",
        "import numpy as np\n",
        "\n",
        "# Mostrar las versiones\n",
        "print(\"numpy version:\", np.__version__)"
      ]
    }
  ]
}
